{
 "cells": [
  {
   "cell_type": "markdown",
   "id": "b7e62e94-6d25-4547-8b91-dba7241c8afd",
   "metadata": {},
   "source": [
    "kubernetes is a popular cloud platform to deploy cloud applications, it accepts yaml file as descriptor for the deployment. Helm is a convenient tool to combine all necessary descriptor together as a package. Now a days lot of nice open software on the market have helm chart, to make it easy to deploy to the kubernetes cloud. You can easily find them at https://artifacthub.io/packages. Bitnami charts as an popular open source project, hosting a lot of popular software here. Now let's explore some of them.\n",
    " "
   ]
  },
  {
   "cell_type": "markdown",
   "id": "85bd13b6-6fc3-4241-a15a-45dcf7206106",
   "metadata": {},
   "source": [
    "Normally database is core of an application. Let's first try to bootstrap an mysql instance"
   ]
  }
 ],
 "metadata": {
  "kernelspec": {
   "display_name": "Bash",
   "language": "bash",
   "name": "bash"
  },
  "language_info": {
   "codemirror_mode": "shell",
   "file_extension": ".sh",
   "mimetype": "text/x-sh",
   "name": "bash"
  }
 },
 "nbformat": 4,
 "nbformat_minor": 5
}
