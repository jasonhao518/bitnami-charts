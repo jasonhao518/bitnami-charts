{
 "cells": [
  {
   "cell_type": "markdown",
   "id": "b7e62e94-6d25-4547-8b91-dba7241c8afd",
   "metadata": {},
   "source": [
    "kubernetes is a popular cloud platform to deploy cloud applications, it accepts yaml file as descriptor for the deployment. Helm is a convenient tool to combine all necessary descriptor together as a package. Now a days lot of nice open software on the market have helm chart, to make it easy to deploy to the kubernetes cloud. You can easily find them at https://artifacthub.io/packages. Bitnami charts as an popular open source project, hosting a lot of popular software here. Now let's explore some of them.\n",
    " "
   ]
  },
  {
   "cell_type": "markdown",
   "id": "85bd13b6-6fc3-4241-a15a-45dcf7206106",
   "metadata": {},
   "source": [
    "Normally database is core of an application. Let's first try to bootstrap an mysql instance"
   ]
  },
  {
   "cell_type": "code",
   "execution_count": 1,
   "id": "55076142-0fba-4bf4-9972-7bf23c7d7fa7",
   "metadata": {},
   "outputs": [
    {
     "name": "stdout",
     "output_type": "stream",
     "text": [
      "\"bitnami\" has been added to your repositories\n"
     ]
    }
   ],
   "source": [
    "helm repo add bitnami https://charts.bitnami.com/bitnami"
   ]
  },
  {
   "cell_type": "code",
   "execution_count": 2,
   "id": "1caf4625-102a-42ef-b54f-bc728be5d05a",
   "metadata": {},
   "outputs": [
    {
     "name": "stdout",
     "output_type": "stream",
     "text": [
      "Release \"mysql\" does not exist. Installing it now.\n",
      "NAME: mysql\n",
      "LAST DEPLOYED: Mon Jan 16 13:58:38 2023\n",
      "NAMESPACE: good3\n",
      "STATUS: deployed\n",
      "REVISION: 1\n",
      "TEST SUITE: None\n",
      "NOTES:\n",
      "CHART NAME: mysql\n",
      "CHART VERSION: 9.4.6\n",
      "APP VERSION: 8.0.31\n",
      "\n",
      "** Please be patient while the chart is being deployed **\n",
      "\n",
      "Tip:\n",
      "\n",
      "  Watch the deployment status using the command: kubectl get pods -w --namespace good3\n",
      "\n",
      "Services:\n",
      "\n",
      "  echo Primary: mysql.good3.svc.cluster.local:3306\n",
      "\n",
      "Execute the following to get the administrator credentials:\n",
      "\n",
      "  echo Username: root\n",
      "  MYSQL_ROOT_PASSWORD=$(kubectl get secret --namespace good3 mysql -o jsonpath=\"{.data.mysql-root-password}\" | base64 -d)\n",
      "\n",
      "To connect to your database:\n",
      "\n",
      "  1. Run a pod that you can use as a client:\n",
      "\n",
      "      kubectl run mysql-client --rm --tty -i --restart='Never' --image  docker.io/bitnami/mysql:8.0.31-debian-11-r30 --namespace good3 --env MYSQL_ROOT_PASSWORD=$MYSQL_ROOT_PASSWORD --command -- bash\n",
      "\n",
      "  2. To connect to primary service (read/write):\n",
      "\n",
      "      mysql -h mysql.good3.svc.cluster.local -uroot -p\"$MYSQL_ROOT_PASSWORD\"\n"
     ]
    }
   ],
   "source": [
    "helm upgrade --install mysql bitnami/mysql --values mysql-values.yaml"
   ]
  },
  {
   "cell_type": "code",
   "execution_count": 13,
   "id": "d77cc209-d304-49fa-84f0-80957cfd05f7",
   "metadata": {},
   "outputs": [
    {
     "name": "stdout",
     "output_type": "stream",
     "text": [
      "NAME    TYPE       CLUSTER-IP       EXTERNAL-IP   PORT(S)          AGE\n",
      "mysql   NodePort   10.100.173.128   <none>        3306:31669/TCP   16m\n"
     ]
    }
   ],
   "source": [
    "kubectl get service mysql"
   ]
  },
  {
   "cell_type": "code",
   "execution_count": 17,
   "id": "a4ccc29d-8635-4925-8d88-dda011e84a1e",
   "metadata": {},
   "outputs": [
    {
     "name": "stdout",
     "output_type": "stream",
     "text": [
      "now you can access your mysql at mysql.good3.findi.biz and port 31669 with username demo and password randomPassword\n"
     ]
    }
   ],
   "source": [
    "echo \"now you can access your mysql at mysql.${NAMESPACE}.findi.biz and port $(kubectl get service mysql -o=jsonpath='{.spec.ports[0].nodePort}') with username demo and password randomPassword\""
   ]
  },
  {
   "cell_type": "code",
   "execution_count": null,
   "id": "262dd0e9-38cf-4637-a1f9-76d2362d2116",
   "metadata": {},
   "outputs": [],
   "source": []
  }
 ],
 "metadata": {
  "kernelspec": {
   "display_name": "Bash",
   "language": "bash",
   "name": "bash"
  },
  "language_info": {
   "codemirror_mode": "shell",
   "file_extension": ".sh",
   "mimetype": "text/x-sh",
   "name": "bash"
  }
 },
 "nbformat": 4,
 "nbformat_minor": 5
}
