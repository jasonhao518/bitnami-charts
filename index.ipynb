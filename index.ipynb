{
 "cells": [
  {
   "cell_type": "markdown",
   "id": "b7e62e94-6d25-4547-8b91-dba7241c8afd",
   "metadata": {},
   "source": [
    "kubernetes is a popular cloud platform to deploy cloud applications, it accepts yaml file as descriptor for the deployment. Helm is a convenient tool to combine all necessary descriptor together as a package. Now a days lot of nice open software on the market have helm chart, to make it easy to deploy to the kubernetes cloud. You can easily find them at https://artifacthub.io/packages. Bitnami charts as an popular open source project, hosting a lot of popular software here. Now let's explore some of them.\n",
    " "
   ]
  },
  {
   "cell_type": "markdown",
   "id": "85bd13b6-6fc3-4241-a15a-45dcf7206106",
   "metadata": {},
   "source": [
    "Normally database is core of an application. Let's first try to bootstrap an mysql instance. Click on menu Run->Run All Cells to run scripts below to bootstrap mysql"
   ]
  },
  {
   "cell_type": "code",
   "execution_count": 1,
   "id": "55076142-0fba-4bf4-9972-7bf23c7d7fa7",
   "metadata": {},
   "outputs": [
    {
     "name": "stdout",
     "output_type": "stream",
     "text": [
      "\"bitnami\" has been added to your repositories\n"
     ]
    }
   ],
   "source": [
    "helm repo add bitnami https://charts.bitnami.com/bitnami"
   ]
  },
  {
   "cell_type": "code",
   "execution_count": 2,
   "id": "1caf4625-102a-42ef-b54f-bc728be5d05a",
   "metadata": {},
   "outputs": [
    {
     "name": "stdout",
     "output_type": "stream",
     "text": [
      "Release \"mysql\" does not exist. Installing it now.\n",
      "NAME: mysql\n",
      "LAST DEPLOYED: Thu Jan 19 00:17:49 2023\n",
      "NAMESPACE: test3\n",
      "STATUS: deployed\n",
      "REVISION: 1\n",
      "TEST SUITE: None\n",
      "NOTES:\n",
      "CHART NAME: mysql\n",
      "CHART VERSION: 9.4.6\n",
      "APP VERSION: 8.0.31\n",
      "\n",
      "** Please be patient while the chart is being deployed **\n",
      "\n",
      "Tip:\n",
      "\n",
      "  Watch the deployment status using the command: kubectl get pods -w --namespace test3\n",
      "\n",
      "Services:\n",
      "\n",
      "  echo Primary: mysql.test3.svc.cluster.local:3306\n",
      "\n",
      "Execute the following to get the administrator credentials:\n",
      "\n",
      "  echo Username: root\n",
      "  MYSQL_ROOT_PASSWORD=$(kubectl get secret --namespace test3 mysql -o jsonpath=\"{.data.mysql-root-password}\" | base64 -d)\n",
      "\n",
      "To connect to your database:\n",
      "\n",
      "  1. Run a pod that you can use as a client:\n",
      "\n",
      "      kubectl run mysql-client --rm --tty -i --restart='Never' --image  docker.io/bitnami/mysql:8.0.31-debian-11-r30 --namespace test3 --env MYSQL_ROOT_PASSWORD=$MYSQL_ROOT_PASSWORD --command -- bash\n",
      "\n",
      "  2. To connect to primary service (read/write):\n",
      "\n",
      "      mysql -h mysql.test3.svc.cluster.local -uroot -p\"$MYSQL_ROOT_PASSWORD\"\n"
     ]
    }
   ],
   "source": [
    "helm upgrade --install mysql bitnami/mysql --values values.yaml"
   ]
  },
  {
   "cell_type": "code",
   "execution_count": 3,
   "id": "d77cc209-d304-49fa-84f0-80957cfd05f7",
   "metadata": {},
   "outputs": [
    {
     "name": "stdout",
     "output_type": "stream",
     "text": [
      "NAME    TYPE       CLUSTER-IP       EXTERNAL-IP   PORT(S)          AGE\n",
      "mysql   NodePort   10.101.183.109   <none>        3306:32207/TCP   0s\n"
     ]
    }
   ],
   "source": [
    "kubectl get service mysql"
   ]
  },
  {
   "cell_type": "code",
   "execution_count": 4,
   "id": "a4ccc29d-8635-4925-8d88-dda011e84a1e",
   "metadata": {},
   "outputs": [
    {
     "name": "stdout",
     "output_type": "stream",
     "text": [
      "now you can access your mysql at mysql.test3.findi.biz and port 32207 with username demo and password randomPassword\n"
     ]
    }
   ],
   "source": [
    "echo \"now you can access your mysql at mysql.${NAMESPACE}.findi.biz and port $(kubectl get service mysql -o=jsonpath='{.spec.ports[0].nodePort}') with username demo and password randomPassword\""
   ]
  },
  {
   "cell_type": "code",
   "execution_count": null,
   "id": "262dd0e9-38cf-4637-a1f9-76d2362d2116",
   "metadata": {},
   "outputs": [],
   "source": [
    "# run script below to unisntall the chart, remove \"#\" from the script below to uncomment the command\n",
    "# helm uninstall mysql"
   ]
  },
  {
   "cell_type": "code",
   "execution_count": 9,
   "id": "020668d5-5e2f-4418-a4a7-351bd904514d",
   "metadata": {},
   "outputs": [
    {
     "name": "stdout",
     "output_type": "stream",
     "text": [
      "Release \"postgresql\" does not exist. Installing it now.\n",
      "NAME: postgresql\n",
      "LAST DEPLOYED: Thu Jan 19 00:36:19 2023\n",
      "NAMESPACE: test3\n",
      "STATUS: deployed\n",
      "REVISION: 1\n",
      "TEST SUITE: None\n",
      "NOTES:\n",
      "CHART NAME: postgresql\n",
      "CHART VERSION: 12.1.9\n",
      "APP VERSION: 15.1.0\n",
      "\n",
      "** Please be patient while the chart is being deployed **\n",
      "\n",
      "PostgreSQL can be accessed via port 5432 on the following DNS names from within your cluster:\n",
      "\n",
      "    postgresql.test3.svc.cluster.local - Read/Write connection\n",
      "\n",
      "To get the password for \"postgres\" run:\n",
      "\n",
      "    export POSTGRES_ADMIN_PASSWORD=$(kubectl get secret --namespace test3 postgresql -o jsonpath=\"{.data.postgres-password}\" | base64 -d)\n",
      "\n",
      "To get the password for \"demo\" run:\n",
      "\n",
      "    export POSTGRES_PASSWORD=$(kubectl get secret --namespace test3 postgresql -o jsonpath=\"{.data.password}\" | base64 -d)\n",
      "\n",
      "To connect to your database run the following command:\n",
      "\n",
      "    kubectl run postgresql-client --rm --tty -i --restart='Never' --namespace test3 --image docker.io/bitnami/postgresql:15.1.0-debian-11-r20 --env=\"PGPASSWORD=$POSTGRES_PASSWORD\" \\\n",
      "      --command -- psql --host postgresql -U demo -d demo -p 5432\n",
      "\n",
      "    > NOTE: If you access the container using bash, make sure that you execute \"/opt/bitnami/scripts/postgresql/entrypoint.sh /bin/bash\" in order to avoid the error \"psql: local user with ID 1001} does not exist\"\n",
      "\n",
      "To connect to your database from outside the cluster execute the following commands:\n",
      "\n",
      "    export NODE_IP=$(kubectl get nodes --namespace test3 -o jsonpath=\"{.items[0].status.addresses[0].address}\")\n",
      "    export NODE_PORT=$(kubectl get --namespace test3 -o jsonpath=\"{.spec.ports[0].nodePort}\" services postgresql)\n",
      "    PGPASSWORD=\"$POSTGRES_PASSWORD\" psql --host $NODE_IP --port $NODE_PORT -U demo -d demo\n"
     ]
    }
   ],
   "source": [
    "helm upgrade --install postgresql bitnami/postgresql --values values.yaml"
   ]
  },
  {
   "cell_type": "code",
   "execution_count": 10,
   "id": "14865bdc-c3e2-4528-9319-d93a7ea3b355",
   "metadata": {},
   "outputs": [
    {
     "name": "stdout",
     "output_type": "stream",
     "text": [
      "now you can access your mysql at postgresql.test3.findi.biz and port 30326 with username demo and password randomPassword\n"
     ]
    }
   ],
   "source": [
    "echo \"now you can access your mysql at postgresql.${NAMESPACE}.findi.biz and port $(kubectl get service postgresql -o=jsonpath='{.spec.ports[0].nodePort}') with username demo and password randomPassword\""
   ]
  },
  {
   "cell_type": "code",
   "execution_count": null,
   "id": "bbbd7446-3f42-4780-9bfa-6a5b43101f6e",
   "metadata": {},
   "outputs": [],
   "source": []
  }
 ],
 "metadata": {
  "kernelspec": {
   "display_name": "Bash",
   "language": "bash",
   "name": "bash"
  },
  "language_info": {
   "codemirror_mode": "shell",
   "file_extension": ".sh",
   "mimetype": "text/x-sh",
   "name": "bash"
  }
 },
 "nbformat": 4,
 "nbformat_minor": 5
}
